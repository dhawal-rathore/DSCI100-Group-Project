{
 "cells": [
  {
   "cell_type": "markdown",
   "id": "1083cb46-021a-4c14-b54a-182979013044",
   "metadata": {},
   "source": [
    "Classifying the Type of Dry Beans By Group 99"
   ]
  },
  {
   "cell_type": "markdown",
   "id": "c6b5785b-b489-46bd-8f3f-58f5bf292efd",
   "metadata": {},
   "source": [
    "Introduction\n",
    "\n",
    "Beans are an important crop and source of protein and nutrition for many people around the world. To cultivate beans, dry beans can be planted like the seeds of any other crop. The dry bean dataset stores that can be used to tell apart 7 similar looking bean types (Seker, Barbunya, Bombay, Cali, Dermosan, Horoz and Sira beans). Using this dataset our predictive question is what is the class of an unknown dry bean based on certain attributes? The dataset includes sixteen different measurements in pixels collected using a camera and computer analysis. These include area, perimeter, major axis length (longest length), minor axis length (longest length perpendicular to major axis length), aspect ratio (major vs minor axis length), eccentricity (compares curve of ellipse to the region), convex area (area of smallest polygon bean fits in), equivalent diameter (diameter of circle the same size as bean), extent (ratio of pixels in box around bean as compared to bean), solidity (pixels in convex shells vs bean), roundness ((4piA)/(P^2)), and shapeFactors 1-4. Using some of this information we aim to create an accurate and useful predictive model to help people tell apart visually similar beans."
   ]
  },
  {
   "cell_type": "markdown",
   "id": "7790cf56-2f1f-4277-b7a4-e336a3ace9b3",
   "metadata": {},
   "source": [
    "Methods\n",
    "\n",
    "To conduct an effective data analysis, we first will clean and wrangle the data, for example evaluating each row and only selecting the variables that are useful for prediction. Among 16 columns in this dataset, we will choose variables such as Perimeter because it has a wide distribution of data which means the differences between types of beans are more obvious and useful for prediction. Variables such as Area, Convex area and Solidity will be removed because of their narrow distribution which may not be effective for distinguishing different beans. \n",
    "\n",
    "Moreover,  the last four columns, which are shape factor 1, 2, 3, and 4 might also not be used for prediction because it is unclear what these four different variables represent and what the difference between these four variables in this dataset are. \n",
    "Moreover, because we are predicting a class/type here, classification will be appropriate to use for building a prediction model. Also, in order to test the accuracy and select the value of K for our model, we need to split the data into train and test datasets for cross validation, but the dataset is already split into two different sets on the website, therefore, it is not necessary for us to repeat this step, which means the test and train dataset on the website will be used directly for checking the accuracy of the classifier. Finally, a suitable and accurate K will be selected for our final prediction of the type of beans."
   ]
  },
  {
   "cell_type": "markdown",
   "id": "fc325d9b-1df3-4cd8-9115-835686872d84",
   "metadata": {},
   "source": [
    "Visualization of results\n",
    "\n",
    "Producing multiple scatter plots are helpful for visualizing the results of prediction, because we selected 9 variables for prediction and producing multiple plots by selecting two different variables at on time and differentiating types of beans by using color enables us to compare the effect of different variables on the prediction and that allows a further analysis of the results."
   ]
  },
  {
   "cell_type": "markdown",
   "id": "172a039a-8710-40e5-a5fc-48d6dbce52de",
   "metadata": {},
   "source": [
    "Expected Outcomes and Significance\n",
    "\n",
    "We expect to find how dry bean classification varies with other factors mostly relating to size and appearance. This outcome would be quite impactful specifically for people interested in farming/agriculture or perhaps from a culinary perspective, especially since, to the human eye these beans look familiar and it is difficult to differentiate between them. After classifying the type of bean we could dig deeper into more comparative questions and rank them by price, popularity or even likeliness of finding them in certain countries/habitats."
   ]
  },
  {
   "cell_type": "code",
   "execution_count": null,
   "id": "f8af716d-88cf-471e-a0c2-34eb42aa8496",
   "metadata": {},
   "outputs": [],
   "source": [
    "# This is a dummy cell"
   ]
  }
 ],
 "metadata": {
  "kernelspec": {
   "display_name": "R",
   "language": "R",
   "name": "ir"
  },
  "language_info": {
   "codemirror_mode": "r",
   "file_extension": ".r",
   "mimetype": "text/x-r-source",
   "name": "R",
   "pygments_lexer": "r",
   "version": "4.1.3"
  }
 },
 "nbformat": 4,
 "nbformat_minor": 5
}
