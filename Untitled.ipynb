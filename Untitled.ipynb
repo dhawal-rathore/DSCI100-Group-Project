{
 "cells": [
  {
   "cell_type": "code",
   "execution_count": null,
   "id": "bdecc2e9-40f1-4179-bd19-9edc6c215e9f",
   "metadata": {},
   "outputs": [],
   "source": [
    "Hi"
   ]
  },
  {
   "cell_type": "code",
   "execution_count": null,
   "id": "182ff483-2fde-432f-b0b6-507f72c30ec8",
   "metadata": {},
   "outputs": [],
   "source": [
    "test 1"
   ]
  },
  {
   "cell_type": "code",
   "execution_count": null,
   "id": "3ca6b479-fe59-463a-96d1-fd71a277455e",
   "metadata": {},
   "outputs": [],
   "source": [
    "test 2"
   ]
  }
 ],
 "metadata": {
  "kernelspec": {
   "display_name": "R",
   "language": "R",
   "name": "ir"
  },
  "language_info": {
   "codemirror_mode": "r",
   "file_extension": ".r",
   "mimetype": "text/x-r-source",
   "name": "R",
   "pygments_lexer": "r",
   "version": "4.1.3"
  }
 },
 "nbformat": 4,
 "nbformat_minor": 5
}
